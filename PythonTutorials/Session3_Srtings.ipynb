{
 "cells": [
  {
   "cell_type": "code",
   "execution_count": 1,
   "id": "c0dc03dd-8a89-48ef-8b3b-8cbe470832be",
   "metadata": {},
   "outputs": [],
   "source": [
    "# a simple string stored in a variable 'text'\n",
    "text = \"Hello Universe\""
   ]
  },
  {
   "cell_type": "code",
   "execution_count": 8,
   "id": "51c0612e-2c59-49b8-a44f-04d623693ed8",
   "metadata": {},
   "outputs": [
    {
     "name": "stdout",
     "output_type": "stream",
     "text": [
      "HELLO UNIVERSE\n"
     ]
    }
   ],
   "source": [
    "# define the 'text' in another variable name 'upper_text'\n",
    "# print the text message in upper case\n",
    "upper_text = text.upper()\n",
    "print (upper_text)"
   ]
  },
  {
   "cell_type": "code",
   "execution_count": 10,
   "id": "cbb0524c-8c0a-4b01-868f-d65a7cf22202",
   "metadata": {},
   "outputs": [
    {
     "name": "stdout",
     "output_type": "stream",
     "text": [
      "hello universe\n"
     ]
    }
   ],
   "source": [
    "# define the 'text' in another variable name 'lower_text'\n",
    "# print the text message in lower case\n",
    "lower_text = text.lower()\n",
    "print (lower_text)"
   ]
  },
  {
   "cell_type": "code",
   "execution_count": 12,
   "id": "06f5964b-4dd8-49ea-8b32-9351cac39b94",
   "metadata": {},
   "outputs": [],
   "source": [
    "# let again define three variables\n",
    "myvar1 = \"a\"\n",
    "myvar2 = 2\n",
    "myvar3 = \"2\""
   ]
  },
  {
   "cell_type": "code",
   "execution_count": 14,
   "id": "3b7c2173-f860-45d8-b012-ce7c8f61d824",
   "metadata": {},
   "outputs": [
    {
     "data": {
      "text/plain": [
       "str"
      ]
     },
     "execution_count": 14,
     "metadata": {},
     "output_type": "execute_result"
    }
   ],
   "source": [
    "# print myvar1 type \n",
    "type(myvar1)"
   ]
  },
  {
   "cell_type": "code",
   "execution_count": 15,
   "id": "0a4231f4-a530-4c8e-a64f-819a00e4d7ae",
   "metadata": {},
   "outputs": [
    {
     "data": {
      "text/plain": [
       "int"
      ]
     },
     "execution_count": 15,
     "metadata": {},
     "output_type": "execute_result"
    }
   ],
   "source": [
    "# print myvar2 type \n",
    "type(myvar2)"
   ]
  },
  {
   "cell_type": "code",
   "execution_count": 16,
   "id": "bb748fbd-7d5e-4b30-9bf2-0b0590fc7985",
   "metadata": {},
   "outputs": [
    {
     "data": {
      "text/plain": [
       "str"
      ]
     },
     "execution_count": 16,
     "metadata": {},
     "output_type": "execute_result"
    }
   ],
   "source": [
    "# print myvar3 type \n",
    "type(myvar3)"
   ]
  },
  {
   "cell_type": "code",
   "execution_count": 17,
   "id": "f3520db2-b4e7-4661-a7e4-fbc6a1285d0b",
   "metadata": {},
   "outputs": [
    {
     "name": "stdin",
     "output_type": "stream",
     "text": [
      "Enter your choice  4\n"
     ]
    },
    {
     "data": {
      "text/plain": [
       "'4'"
      ]
     },
     "execution_count": 17,
     "metadata": {},
     "output_type": "execute_result"
    }
   ],
   "source": [
    "# first define a variable and take an input and print that variable\n",
    "myvar4 = input(\"Enter your choice \")\n",
    "myvar4"
   ]
  },
  {
   "cell_type": "code",
   "execution_count": 21,
   "id": "4014d09b-81ab-43ee-910c-30ddee90d091",
   "metadata": {},
   "outputs": [
    {
     "data": {
      "text/plain": [
       "6"
      ]
     },
     "execution_count": 21,
     "metadata": {},
     "output_type": "execute_result"
    }
   ],
   "source": [
    "# the ourput has come as a string\n",
    "# now if i do addition any number with the myvar4, it will show an error\n",
    "# before adding i have to convert the string as an integer or as a float\n",
    "myvar5 = int(myvar4) + 2\n",
    "myvar5"
   ]
  },
  {
   "cell_type": "code",
   "execution_count": 22,
   "id": "d2552c5d-1999-4a34-a896-bd3ec424eeaa",
   "metadata": {},
   "outputs": [
    {
     "data": {
      "text/plain": [
       "'6'"
      ]
     },
     "execution_count": 22,
     "metadata": {},
     "output_type": "execute_result"
    }
   ],
   "source": [
    "# i can again convert the final output 'myvar5' as a string and print the same\n",
    "myvar6 = str(myvar5)\n",
    "myvar6"
   ]
  },
  {
   "cell_type": "code",
   "execution_count": 29,
   "id": "fbb871bd-5435-40c7-aad2-654aa7cda4e5",
   "metadata": {},
   "outputs": [
    {
     "data": {
      "text/plain": [
       "'6 number of seasons'"
      ]
     },
     "execution_count": 29,
     "metadata": {},
     "output_type": "execute_result"
    }
   ],
   "source": [
    "# now we can add another string with the string 'myvar6'\n",
    "# and the output will be a string\n",
    "myvar7 = myvar6 + \" number of seasons\"\n",
    "myvar7"
   ]
  },
  {
   "cell_type": "code",
   "execution_count": 31,
   "id": "e4fee9fb-ea0c-4803-9a85-b5a8cabc3172",
   "metadata": {},
   "outputs": [
    {
     "name": "stdout",
     "output_type": "stream",
     "text": [
      "6 number of seasons\n"
     ]
    }
   ],
   "source": [
    "# if we use print function, we also get the same same output\n",
    "print (myvar7)"
   ]
  },
  {
   "cell_type": "code",
   "execution_count": 45,
   "id": "4e758a79-9658-4e6c-81db-68206198c711",
   "metadata": {},
   "outputs": [
    {
     "name": "stdout",
     "output_type": "stream",
     "text": [
      "hello! my name is prasenjit, i am from west bengal\n"
     ]
    }
   ],
   "source": [
    "# a function is a code where i can pass some parameters\n",
    "# the print() function is an example \n",
    "# here in jupyter we can print any operation as we have seen above\n",
    "# but in real code we need to print any parameter through print() function\n",
    "# while we print any string by print() function it will print it\n",
    "# if i want to print the spaces, commas, questions marks will be same as the input string in the output\n",
    "print(\"hello! my name is prasenjit, i am from west bengal\")"
   ]
  },
  {
   "cell_type": "code",
   "execution_count": 49,
   "id": "d82e7afa-0127-465d-89c9-3ebf25855355",
   "metadata": {},
   "outputs": [
    {
     "name": "stdout",
     "output_type": "stream",
     "text": [
      "hello! what are you doing?\n",
      "\n",
      "hi! I am studying\n"
     ]
    }
   ],
   "source": [
    "# now multiple line string\n",
    "# if i want to print multiple lines, there are two different ways\n",
    "# first one by using 'new line' operator\n",
    "# single 'new line' means next line, multiple times 'new lines' operator means multiple empty new lines/paragraphs\n",
    "# here i will use two 'new line' operatorstwo times d ouble 'new line\n",
    "print(\"hello! what are you doing?\\n\\nhi! I am studying\")"
   ]
  },
  {
   "cell_type": "code",
   "execution_count": 51,
   "id": "ee3ca339-27b6-4f2a-9234-5230ad175ea5",
   "metadata": {},
   "outputs": [
    {
     "name": "stdout",
     "output_type": "stream",
     "text": [
      "hello! what is your name? what are you doing?\n",
      "\n",
      "hi! myname is prasenjit boral\n",
      "i am studying\n"
     ]
    }
   ],
   "source": [
    "# we will use triple quotes for multiline string\n",
    "print(\"\"\"hello! what is your name? what are you doing?\n",
    "\n",
    "hi! myname is prasenjit boral\n",
    "i am studying\"\"\")"
   ]
  },
  {
   "cell_type": "code",
   "execution_count": 52,
   "id": "26c7efed-c62e-4f2d-a457-7908ccc151fc",
   "metadata": {},
   "outputs": [
    {
     "name": "stdout",
     "output_type": "stream",
     "text": [
      "Name: Prasenjit Boral\n",
      "Role: Project Manager\n",
      "Company: Precision Electronics Limited\n"
     ]
    }
   ],
   "source": [
    "# Using \\n for more new lines\n",
    "print(\"Name: Prasenjit Boral\\nRole: Project Manager\\nCompany: Precision Electronics Limited\")"
   ]
  },
  {
   "cell_type": "code",
   "execution_count": 53,
   "id": "fa0edad3-d0d1-4345-b8ae-9e25506c8411",
   "metadata": {},
   "outputs": [
    {
     "name": "stdout",
     "output_type": "stream",
     "text": [
      "Dear Team,\n",
      "\n",
      "Please find the status update below:\n",
      "\n",
      "- Task A: Completed\n",
      "- Task B: In Progress\n",
      "- Task C: Pending\n",
      "\n",
      "Regards,\n",
      "Prasenjit\n"
     ]
    }
   ],
   "source": [
    "# using more example on triple quotes (\"\"\" or ''') for multiline strings\n",
    "# it is best for printing block text or long paragraphs\n",
    "print(\"\"\"Dear Team,\n",
    "\n",
    "Please find the status update below:\n",
    "\n",
    "- Task A: Completed\n",
    "- Task B: In Progress\n",
    "- Task C: Pending\n",
    "\n",
    "Regards,\n",
    "Prasenjit\"\"\")"
   ]
  },
  {
   "cell_type": "code",
   "execution_count": 54,
   "id": "6c9af655-278b-4618-a1fb-67ebe621e94e",
   "metadata": {},
   "outputs": [
    {
     "name": "stdout",
     "output_type": "stream",
     "text": [
      "Hello Prasenjit,\n",
      "Welcome to the Python Brushup program.\n"
     ]
    }
   ],
   "source": [
    "# joining multiple strings e.g., with +\n",
    "# it is good when variables are involved\n",
    "name = \"Prasenjit\"\n",
    "project = \"Python Brushup\"\n",
    "print(\"Hello \" + name + \",\\nWelcome to the \" + project + \" program.\")"
   ]
  },
  {
   "cell_type": "code",
   "execution_count": 56,
   "id": "85f2a89d-d00c-413f-9b29-3d419e630ed0",
   "metadata": {
    "scrolled": true
   },
   "outputs": [
    {
     "name": "stdout",
     "output_type": "stream",
     "text": [
      "Hello Prasenjit,\n",
      "Welcome to the Python Brushup program.\n"
     ]
    }
   ],
   "source": [
    "# joining multiple strings e.g., with f-strings\n",
    "# it is recommended in advance level\n",
    "print(f\"Hello {name},\\nWelcome to the {project} program.\")"
   ]
  },
  {
   "cell_type": "code",
   "execution_count": 58,
   "id": "2f89da04-92b2-4bf3-9886-bb4bda213156",
   "metadata": {},
   "outputs": [],
   "source": [
    "# in the backend, strings in python are stored as sequences of Unicode characters\n",
    "# once a string is created, it cannot be changed.\n",
    "# any modification (like s += \"new\") creates a new string object in memory.\n",
    "# python3 uses Unicode (UTF-8/UTF-16/UTF-32) to represent characters. \n",
    "# internally, python uses an efficient strategy called \"Flexible String Representation\" (PEP 393).\n",
    "# # strings are stored as a sequence of characters indexed from 0 to (length of the variable - 1)\n",
    "myvar8 = \"I like classes in Bengali\""
   ]
  },
  {
   "cell_type": "code",
   "execution_count": 60,
   "id": "5884b4b8-5171-4d49-85af-1160a7450bcf",
   "metadata": {},
   "outputs": [
    {
     "data": {
      "text/plain": [
       "'I'"
      ]
     },
     "execution_count": 60,
     "metadata": {},
     "output_type": "execute_result"
    }
   ],
   "source": [
    "myvar8 [0]"
   ]
  },
  {
   "cell_type": "code",
   "execution_count": 65,
   "id": "e6044a52-41c0-471d-8403-0ab102ae16e8",
   "metadata": {},
   "outputs": [
    {
     "data": {
      "text/plain": [
       "' '"
      ]
     },
     "execution_count": 65,
     "metadata": {},
     "output_type": "execute_result"
    }
   ],
   "source": [
    "myvar8 [1]"
   ]
  },
  {
   "cell_type": "code",
   "execution_count": 62,
   "id": "0cb907d8-80a3-409a-84d3-a33b8252bbfa",
   "metadata": {},
   "outputs": [
    {
     "data": {
      "text/plain": [
       "'l'"
      ]
     },
     "execution_count": 62,
     "metadata": {},
     "output_type": "execute_result"
    }
   ],
   "source": [
    "myvar8 [2]"
   ]
  },
  {
   "cell_type": "code",
   "execution_count": 64,
   "id": "d164c5e0-a31c-4890-9cae-14d7331668e4",
   "metadata": {},
   "outputs": [
    {
     "name": "stdout",
     "output_type": "stream",
     "text": [
      "Index 0: I\n",
      "Index 1:  \n",
      "Index 2: l\n",
      "Index 3: i\n",
      "Index 4: k\n",
      "Index 5: e\n",
      "Index 6:  \n",
      "Index 7: c\n",
      "Index 8: l\n",
      "Index 9: a\n",
      "Index 10: s\n",
      "Index 11: s\n",
      "Index 12: e\n",
      "Index 13: s\n",
      "Index 14:  \n",
      "Index 15: i\n",
      "Index 16: n\n",
      "Index 17:  \n",
      "Index 18: B\n",
      "Index 19: e\n",
      "Index 20: n\n",
      "Index 21: g\n",
      "Index 22: a\n",
      "Index 23: l\n",
      "Index 24: i\n"
     ]
    }
   ],
   "source": [
    "# printing all the characters in myvar8\n",
    "for i in range(len(myvar8)):\n",
    "    print(f\"Index {i}: {myvar8[i]}\")"
   ]
  },
  {
   "cell_type": "code",
   "execution_count": 73,
   "id": "192a2125-fadc-4510-96bc-481dca017ef1",
   "metadata": {},
   "outputs": [],
   "source": [
    "# string slicing\n",
    "# string slicing allows us to extract a part of the string (a substring) using the syntax \"string[start : stop : step]\"\n",
    "myvar9 = \"This is Python\""
   ]
  },
  {
   "cell_type": "code",
   "execution_count": 74,
   "id": "cf544568-7f14-4cd1-b78d-8ab2a0644bc5",
   "metadata": {},
   "outputs": [
    {
     "data": {
      "text/plain": [
       "'Thi'"
      ]
     },
     "execution_count": 74,
     "metadata": {},
     "output_type": "execute_result"
    }
   ],
   "source": [
    "myvar9 [0:3]"
   ]
  },
  {
   "cell_type": "code",
   "execution_count": 75,
   "id": "11badca6-3da9-4c85-9d1e-2f189cc673df",
   "metadata": {},
   "outputs": [
    {
     "data": {
      "text/plain": [
       "'This'"
      ]
     },
     "execution_count": 75,
     "metadata": {},
     "output_type": "execute_result"
    }
   ],
   "source": [
    "myvar8 [0:4]"
   ]
  },
  {
   "cell_type": "code",
   "execution_count": 76,
   "id": "6793f0b2-a0b4-4c71-92dd-c136db88a131",
   "metadata": {},
   "outputs": [
    {
     "data": {
      "text/plain": [
       "'This is '"
      ]
     },
     "execution_count": 76,
     "metadata": {},
     "output_type": "execute_result"
    }
   ],
   "source": [
    "myvar9 [0:8]"
   ]
  },
  {
   "cell_type": "code",
   "execution_count": 77,
   "id": "10826909-9af5-440f-9ad8-cb81c6a34572",
   "metadata": {},
   "outputs": [
    {
     "data": {
      "text/plain": [
       "'is Py'"
      ]
     },
     "execution_count": 77,
     "metadata": {},
     "output_type": "execute_result"
    }
   ],
   "source": [
    "myvar9 [5:10]"
   ]
  },
  {
   "cell_type": "code",
   "execution_count": null,
   "id": "cdbe78d4-e784-4e53-97dd-95fae8fb4357",
   "metadata": {},
   "outputs": [],
   "source": []
  }
 ],
 "metadata": {
  "kernelspec": {
   "display_name": "Python 3 (ipykernel)",
   "language": "python",
   "name": "python3"
  },
  "language_info": {
   "codemirror_mode": {
    "name": "ipython",
    "version": 3
   },
   "file_extension": ".py",
   "mimetype": "text/x-python",
   "name": "python",
   "nbconvert_exporter": "python",
   "pygments_lexer": "ipython3",
   "version": "3.13.5"
  }
 },
 "nbformat": 4,
 "nbformat_minor": 5
}
