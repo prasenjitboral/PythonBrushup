{
 "cells": [
  {
   "cell_type": "code",
   "execution_count": 50,
   "id": "06756caa-47a6-4b48-8caa-4fea29ea7a22",
   "metadata": {},
   "outputs": [
    {
     "data": {
      "text/plain": [
       "6"
      ]
     },
     "execution_count": 50,
     "metadata": {},
     "output_type": "execute_result"
    }
   ],
   "source": [
    "# add two numbers\n",
    "# use '+' operator\n",
    "2 + 4"
   ]
  },
  {
   "cell_type": "code",
   "execution_count": 49,
   "id": "5a450fad-434e-4b9f-b8b7-83af444e7b54",
   "metadata": {},
   "outputs": [
    {
     "data": {
      "text/plain": [
       "4"
      ]
     },
     "execution_count": 49,
     "metadata": {},
     "output_type": "execute_result"
    }
   ],
   "source": [
    "# substract two numbers\n",
    "# use '-' operator\n",
    "8 - 4"
   ]
  },
  {
   "cell_type": "code",
   "execution_count": 25,
   "id": "28f1788c-a6b3-4fc2-a299-4d0d1051539f",
   "metadata": {},
   "outputs": [
    {
     "data": {
      "text/plain": [
       "24"
      ]
     },
     "execution_count": 25,
     "metadata": {},
     "output_type": "execute_result"
    }
   ],
   "source": [
    "# multiply two numbers\n",
    "# use '*' operator\n",
    "4 * 6"
   ]
  },
  {
   "cell_type": "code",
   "execution_count": 26,
   "id": "7844bbbb-3e56-4358-b9a3-7d0acd440cd4",
   "metadata": {},
   "outputs": [
    {
     "data": {
      "text/plain": [
       "4.0"
      ]
     },
     "execution_count": 26,
     "metadata": {},
     "output_type": "execute_result"
    }
   ],
   "source": [
    "# divide two numbers\n",
    "# use '/' operator\n",
    "# '/' returns the float\n",
    "8 / 2"
   ]
  },
  {
   "cell_type": "code",
   "execution_count": 27,
   "id": "975f7f57-7375-420c-8616-dd9ef2248698",
   "metadata": {},
   "outputs": [
    {
     "data": {
      "text/plain": [
       "1.5"
      ]
     },
     "execution_count": 27,
     "metadata": {},
     "output_type": "execute_result"
    }
   ],
   "source": [
    "# divide two numbers\n",
    "# use '/' operator\n",
    "# '/' returns the float\n",
    "6 / 4"
   ]
  },
  {
   "cell_type": "code",
   "execution_count": 40,
   "id": "0ca91631-2630-4ed1-adf6-dc497cce77e1",
   "metadata": {},
   "outputs": [
    {
     "data": {
      "text/plain": [
       "2.6666666666666665"
      ]
     },
     "execution_count": 40,
     "metadata": {},
     "output_type": "execute_result"
    }
   ],
   "source": [
    "# divide two numbers\n",
    "# use '/' operator\n",
    "# '/' returns the float\n",
    "8 / 3"
   ]
  },
  {
   "cell_type": "code",
   "execution_count": 30,
   "id": "916b1eb0-55df-4e0b-b906-28d05a0a2e6f",
   "metadata": {},
   "outputs": [
    {
     "data": {
      "text/plain": [
       "7"
      ]
     },
     "execution_count": 30,
     "metadata": {},
     "output_type": "execute_result"
    }
   ],
   "source": [
    "# for multiple operation at a time BODMAS (Bracket, Order, Division, Multiplication, Addition, Substraction) rule is used\n",
    "8 + 9 - 10"
   ]
  },
  {
   "cell_type": "code",
   "execution_count": 32,
   "id": "f36c0ae0-9fb0-49bf-be6a-d2916db0526e",
   "metadata": {},
   "outputs": [
    {
     "data": {
      "text/plain": [
       "14"
      ]
     },
     "execution_count": 32,
     "metadata": {},
     "output_type": "execute_result"
    }
   ],
   "source": [
    "# for multiple operation at a time BODMAS (Bracket, Order, Division, Multiplication, Addition, Substraction) rule is used\n",
    "8 + 2 * 3"
   ]
  },
  {
   "cell_type": "code",
   "execution_count": 33,
   "id": "a602c50f-faf3-4778-a4b7-b87afebe566f",
   "metadata": {},
   "outputs": [
    {
     "data": {
      "text/plain": [
       "30"
      ]
     },
     "execution_count": 33,
     "metadata": {},
     "output_type": "execute_result"
    }
   ],
   "source": [
    "# for multiple operation at a time BODMAS (Bracket, Order, Division, Multiplication, Addition, Substraction) rule is used\n",
    "(8 + 2) * 3"
   ]
  },
  {
   "cell_type": "code",
   "execution_count": 35,
   "id": "c87376c7-35f6-49a6-aa72-c856ea8c84fe",
   "metadata": {},
   "outputs": [
    {
     "data": {
      "text/plain": [
       "8"
      ]
     },
     "execution_count": 35,
     "metadata": {},
     "output_type": "execute_result"
    }
   ],
   "source": [
    "# for to-the-power - such as 'x' to-the-power 'y', we can use the any of the two ways below:\n",
    "# 1) x * x * x * .... y times x\n",
    "# 2) x ** y\n",
    "# for an example, 2 to-the-power 3\n",
    "2 * 2 * 2"
   ]
  },
  {
   "cell_type": "code",
   "execution_count": 41,
   "id": "5d0298d5-6bad-428d-a1e5-590bf1d1d0ac",
   "metadata": {},
   "outputs": [
    {
     "data": {
      "text/plain": [
       "8"
      ]
     },
     "execution_count": 41,
     "metadata": {},
     "output_type": "execute_result"
    }
   ],
   "source": [
    "# for to-the-power - such as 'x' to-the-power 'y', we can use the any of the two ways below:\n",
    "# 1) x * x * x * .... y times x\n",
    "# 2) x ** y\n",
    "# for an example, 2 to-the-power 3\n",
    "2 ** 3"
   ]
  },
  {
   "cell_type": "code",
   "execution_count": 42,
   "id": "ea301fb0-a964-4b68-821d-019ea8dda70d",
   "metadata": {},
   "outputs": [
    {
     "data": {
      "text/plain": [
       "4096"
      ]
     },
     "execution_count": 42,
     "metadata": {},
     "output_type": "execute_result"
    }
   ],
   "source": [
    "# for to-the-power - such as 'x' to-the-power 'y', we can use the any of the two ways below:\n",
    "# 1) x * x * x * .... y times x\n",
    "# 2) x ** y\n",
    "# for an example, 4 to-the-power 6 \n",
    "4 * 4 * 4 * 4 * 4 * 4"
   ]
  },
  {
   "cell_type": "code",
   "execution_count": 38,
   "id": "684a328b-6630-4e27-bb29-7988fa865d73",
   "metadata": {},
   "outputs": [
    {
     "data": {
      "text/plain": [
       "4096"
      ]
     },
     "execution_count": 38,
     "metadata": {},
     "output_type": "execute_result"
    }
   ],
   "source": [
    "# for to-the-power - such as 'x' to-the-power 'y', we can use the any of the two ways below:\n",
    "# 1) x * x * x * .... y times x\n",
    "# 2) x ** y\n",
    "# for an example, 4 to-the-power 6 \n",
    "4 ** 6"
   ]
  },
  {
   "cell_type": "code",
   "execution_count": 45,
   "id": "c82e2988-e6a4-408d-bac4-b63ec635c41c",
   "metadata": {},
   "outputs": [
    {
     "data": {
      "text/plain": [
       "2"
      ]
     },
     "execution_count": 45,
     "metadata": {},
     "output_type": "execute_result"
    }
   ],
   "source": [
    "# for a division, if we want only quotient part, we will use floor division '//' operator\n",
    "# '/' returns only the float\n",
    "5 // 2"
   ]
  },
  {
   "cell_type": "code",
   "execution_count": 46,
   "id": "568f54e9-f9be-49a4-93a7-eccfc308d5a6",
   "metadata": {},
   "outputs": [
    {
     "data": {
      "text/plain": [
       "1"
      ]
     },
     "execution_count": 46,
     "metadata": {},
     "output_type": "execute_result"
    }
   ],
   "source": [
    "# for a division, if we want only remainder part, we will use percentile or modulus '%' operator\n",
    "5 % 2"
   ]
  },
  {
   "cell_type": "code",
   "execution_count": 51,
   "id": "4e73ced3-5760-4e92-9dd0-bbe61175297e",
   "metadata": {},
   "outputs": [
    {
     "data": {
      "text/plain": [
       "1"
      ]
     },
     "execution_count": 51,
     "metadata": {},
     "output_type": "execute_result"
    }
   ],
   "source": [
    "# to determine any-number is even or odd\n",
    "# use percentile or modulus operator '%'\n",
    "# any-number % 2\n",
    "# the reminder will be '0' for even number\n",
    "# the remainder will be '1' for odd number\n",
    "# '45' is the odd number as the remainder is '1'\n",
    "45 % 2"
   ]
  },
  {
   "cell_type": "code",
   "execution_count": 52,
   "id": "754083e6-162a-4519-87b6-75b4139046f4",
   "metadata": {},
   "outputs": [
    {
     "data": {
      "text/plain": [
       "0"
      ]
     },
     "execution_count": 52,
     "metadata": {},
     "output_type": "execute_result"
    }
   ],
   "source": [
    "# to determine any-number is even or odd\n",
    "# use percentile or modulus operator '%'\n",
    "# any-number % 2\n",
    "# the reminder will be '0' for even number\n",
    "# the remainder will be '1' for odd number\n",
    "# '34' is the even number as the remainder is '0'\n",
    "34 % 2"
   ]
  },
  {
   "cell_type": "code",
   "execution_count": null,
   "id": "77ba181f-d9db-4431-9150-098dabab2d52",
   "metadata": {},
   "outputs": [],
   "source": []
  }
 ],
 "metadata": {
  "kernelspec": {
   "display_name": "Python 3 (ipykernel)",
   "language": "python",
   "name": "python3"
  },
  "language_info": {
   "codemirror_mode": {
    "name": "ipython",
    "version": 3
   },
   "file_extension": ".py",
   "mimetype": "text/x-python",
   "name": "python",
   "nbconvert_exporter": "python",
   "pygments_lexer": "ipython3",
   "version": "3.13.5"
  }
 },
 "nbformat": 4,
 "nbformat_minor": 5
}
