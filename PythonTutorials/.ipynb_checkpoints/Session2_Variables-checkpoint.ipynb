{
 "cells": [
  {
   "cell_type": "code",
   "execution_count": 19,
   "id": "9d7ce7ad-49c8-4a6e-8c4b-2e37d655975c",
   "metadata": {},
   "outputs": [
    {
     "data": {
      "text/plain": [
       "6"
      ]
     },
     "execution_count": 19,
     "metadata": {},
     "output_type": "execute_result"
    }
   ],
   "source": [
    "# if we want to add two numbers without storing the numbers then we will use simple addition\n",
    "2+4"
   ]
  },
  {
   "cell_type": "code",
   "execution_count": 10,
   "id": "a2fa02f1-0bd6-452f-b550-da308261d3dd",
   "metadata": {},
   "outputs": [
    {
     "name": "stdin",
     "output_type": "stream",
     "text": [
      "enter any number 4\n"
     ]
    },
    {
     "data": {
      "text/plain": [
       "'4'"
      ]
     },
     "execution_count": 10,
     "metadata": {},
     "output_type": "execute_result"
    }
   ],
   "source": [
    "# now if we want to get user input as a string even the input is a number\n",
    "input(\"enter any number\")"
   ]
  },
  {
   "cell_type": "code",
   "execution_count": 11,
   "id": "b7bea281-9f76-463e-84ae-91e840a57112",
   "metadata": {},
   "outputs": [
    {
     "name": "stdin",
     "output_type": "stream",
     "text": [
      "enter any number 4\n"
     ]
    },
    {
     "data": {
      "text/plain": [
       "4"
      ]
     },
     "execution_count": 11,
     "metadata": {},
     "output_type": "execute_result"
    }
   ],
   "source": [
    "# now if we want to get user input as a number\n",
    "int(input(\"enter any number\"))"
   ]
  },
  {
   "cell_type": "code",
   "execution_count": 12,
   "id": "45874066-2f1f-485b-819c-27ea731dccfb",
   "metadata": {},
   "outputs": [],
   "source": [
    "# if we want to store a number into a variable directly, it will be stored as a number only not as a string\n",
    "myvar = 6"
   ]
  },
  {
   "cell_type": "code",
   "execution_count": 22,
   "id": "4e501a08-cdd5-4444-a141-af1b5139f582",
   "metadata": {},
   "outputs": [
    {
     "data": {
      "text/plain": [
       "6"
      ]
     },
     "execution_count": 22,
     "metadata": {},
     "output_type": "execute_result"
    }
   ],
   "source": [
    "# the number i.e. '6' is stored into the variable 'myvar'\n",
    "# if we want to see the number or print the number\n",
    "myvar"
   ]
  },
  {
   "cell_type": "code",
   "execution_count": 2,
   "id": "4a33fd41-5e85-482f-ac04-322d1b34a4b3",
   "metadata": {},
   "outputs": [
    {
     "name": "stdin",
     "output_type": "stream",
     "text": [
      "enter first number 2\n"
     ]
    }
   ],
   "source": [
    "# if we want to store a number input\n",
    "mynum1 = int(input(\"enter first number\"))"
   ]
  },
  {
   "cell_type": "code",
   "execution_count": 3,
   "id": "4a70d091-d478-4704-ad15-edfe03721923",
   "metadata": {},
   "outputs": [
    {
     "data": {
      "text/plain": [
       "2"
      ]
     },
     "execution_count": 3,
     "metadata": {},
     "output_type": "execute_result"
    }
   ],
   "source": [
    "mynum1"
   ]
  },
  {
   "cell_type": "code",
   "execution_count": 4,
   "id": "50419a19-9e6a-4a3e-b373-7f8f3ad414c7",
   "metadata": {},
   "outputs": [
    {
     "name": "stdin",
     "output_type": "stream",
     "text": [
      "enter second number 4\n"
     ]
    }
   ],
   "source": [
    "# if we want to store another number input\n",
    "mynum2 = int(input(\"enter second number\"))"
   ]
  },
  {
   "cell_type": "code",
   "execution_count": 5,
   "id": "48f8cebd-a234-44be-840f-bb60bc8a9c60",
   "metadata": {},
   "outputs": [
    {
     "data": {
      "text/plain": [
       "4"
      ]
     },
     "execution_count": 5,
     "metadata": {},
     "output_type": "execute_result"
    }
   ],
   "source": [
    "mynum2"
   ]
  },
  {
   "cell_type": "code",
   "execution_count": 6,
   "id": "22eef915-e6ab-4796-83b1-38f8e2146f92",
   "metadata": {},
   "outputs": [
    {
     "data": {
      "text/plain": [
       "6"
      ]
     },
     "execution_count": 6,
     "metadata": {},
     "output_type": "execute_result"
    }
   ],
   "source": [
    "# now simply add two numbers\n",
    "mynum1 + mynum2"
   ]
  },
  {
   "cell_type": "code",
   "execution_count": 1,
   "id": "b3bbd84e-aa01-43aa-b2c3-0fc1fa045397",
   "metadata": {},
   "outputs": [],
   "source": [
    "# now we will take only one variable\n",
    "my_num = 2"
   ]
  },
  {
   "cell_type": "code",
   "execution_count": 2,
   "id": "cca81400-f07d-4b22-a161-c82f3e18883e",
   "metadata": {},
   "outputs": [
    {
     "data": {
      "text/plain": [
       "2"
      ]
     },
     "execution_count": 2,
     "metadata": {},
     "output_type": "execute_result"
    }
   ],
   "source": [
    "# we will see the number\n",
    "my_num"
   ]
  },
  {
   "cell_type": "code",
   "execution_count": 3,
   "id": "3298c47f-e3b9-4d41-80af-dddd643350bb",
   "metadata": {},
   "outputs": [],
   "source": [
    "# now we will do the add operation\n",
    "# we will add 6 with \"my_num\" in different way\n",
    "# \"my_num += 6\" means \"my_num = my_num + 6\"\n",
    "my_num += 6"
   ]
  },
  {
   "cell_type": "code",
   "execution_count": 4,
   "id": "81216576-c3ca-4f21-85d8-7dbb448b81e5",
   "metadata": {},
   "outputs": [
    {
     "data": {
      "text/plain": [
       "8"
      ]
     },
     "execution_count": 4,
     "metadata": {},
     "output_type": "execute_result"
    }
   ],
   "source": [
    "# now we will print the addition output, i.e. the my_num\n",
    "my_num"
   ]
  },
  {
   "cell_type": "code",
   "execution_count": 1,
   "id": "4a602db2-802a-4220-8212-f0e1588f4464",
   "metadata": {},
   "outputs": [],
   "source": [
    "# will take a variable\n",
    "myvar1 = 4"
   ]
  },
  {
   "cell_type": "code",
   "execution_count": 2,
   "id": "c60fa478-a448-4169-944d-07f76dbb5ca8",
   "metadata": {},
   "outputs": [
    {
     "data": {
      "text/plain": [
       "4"
      ]
     },
     "execution_count": 2,
     "metadata": {},
     "output_type": "execute_result"
    }
   ],
   "source": [
    "# print the variable\n",
    "myvar1"
   ]
  },
  {
   "cell_type": "code",
   "execution_count": 4,
   "id": "234a1cdd-eca5-41df-8d6e-4deacac20314",
   "metadata": {},
   "outputs": [
    {
     "data": {
      "text/plain": [
       "int"
      ]
     },
     "execution_count": 4,
     "metadata": {},
     "output_type": "execute_result"
    }
   ],
   "source": [
    "# check the type\n",
    "type(myvar1)"
   ]
  },
  {
   "cell_type": "code",
   "execution_count": 6,
   "id": "6ec8eb75-d59f-4f18-91bb-d26d6de5139a",
   "metadata": {},
   "outputs": [],
   "source": [
    "# will take another variable\n",
    "myvar2 = 3.8"
   ]
  },
  {
   "cell_type": "code",
   "execution_count": 7,
   "id": "78dbfd3d-7781-4348-a5c0-01ed488cf717",
   "metadata": {},
   "outputs": [
    {
     "data": {
      "text/plain": [
       "3.8"
      ]
     },
     "execution_count": 7,
     "metadata": {},
     "output_type": "execute_result"
    }
   ],
   "source": [
    "# print the variable\n",
    "myvar2"
   ]
  },
  {
   "cell_type": "code",
   "execution_count": 8,
   "id": "8c3ab8ca-10b2-4b81-a3a1-ea5c35e6e548",
   "metadata": {},
   "outputs": [
    {
     "data": {
      "text/plain": [
       "float"
      ]
     },
     "execution_count": 8,
     "metadata": {},
     "output_type": "execute_result"
    }
   ],
   "source": [
    "# check the type\n",
    "type(myvar2)"
   ]
  },
  {
   "cell_type": "code",
   "execution_count": null,
   "id": "ef41c88d-ee51-479f-8c38-755472c2aae9",
   "metadata": {},
   "outputs": [],
   "source": []
  }
 ],
 "metadata": {
  "kernelspec": {
   "display_name": "Python 3 (ipykernel)",
   "language": "python",
   "name": "python3"
  },
  "language_info": {
   "codemirror_mode": {
    "name": "ipython",
    "version": 3
   },
   "file_extension": ".py",
   "mimetype": "text/x-python",
   "name": "python",
   "nbconvert_exporter": "python",
   "pygments_lexer": "ipython3",
   "version": "3.13.5"
  }
 },
 "nbformat": 4,
 "nbformat_minor": 5
}
