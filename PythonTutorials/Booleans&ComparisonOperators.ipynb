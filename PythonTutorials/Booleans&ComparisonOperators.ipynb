{
 "cells": [
  {
   "cell_type": "code",
   "execution_count": 1,
   "id": "6a51a1b1-33e8-4dfd-929d-07cb11167350",
   "metadata": {},
   "outputs": [
    {
     "name": "stdout",
     "output_type": "stream",
     "text": [
      "4\n"
     ]
    }
   ],
   "source": [
    "# assinging some value '=' operator is used\n",
    "x = 4\n",
    "print(x)"
   ]
  },
  {
   "cell_type": "code",
   "execution_count": 5,
   "id": "79032be8-66d2-4d9d-a891-457c70f9cbf7",
   "metadata": {},
   "outputs": [
    {
     "name": "stdout",
     "output_type": "stream",
     "text": [
      "6\n"
     ]
    }
   ],
   "source": [
    "# assinging another value '=' operator is used\n",
    "y = 6\n",
    "print(y)"
   ]
  },
  {
   "cell_type": "code",
   "execution_count": 2,
   "id": "cdb83117-876c-4c58-9b20-03d8d3ea9637",
   "metadata": {},
   "outputs": [],
   "source": [
    "# for condition check, the data type is called boolean\n",
    "# in boolean data types, there are two output (results) - either the condition is true or the condition is false\n",
    "# to validate the outputs, some operators are used"
   ]
  },
  {
   "cell_type": "code",
   "execution_count": 10,
   "id": "8b764ec3-bdca-4d10-b71a-9a2104eee926",
   "metadata": {},
   "outputs": [],
   "source": [
    "# '==' operator"
   ]
  },
  {
   "cell_type": "code",
   "execution_count": 9,
   "id": "8d8786a1-7074-47ae-838a-43ce54825b62",
   "metadata": {},
   "outputs": [
    {
     "data": {
      "text/plain": [
       "True"
      ]
     },
     "execution_count": 9,
     "metadata": {},
     "output_type": "execute_result"
    }
   ],
   "source": [
    "# now already it is defined that the value of x is 4\n",
    "# we will now check the condition for the value of x\n",
    "x == 4"
   ]
  },
  {
   "cell_type": "code",
   "execution_count": 6,
   "id": "266a9b31-672c-4de2-86e8-26f843ad0ed6",
   "metadata": {},
   "outputs": [
    {
     "data": {
      "text/plain": [
       "False"
      ]
     },
     "execution_count": 6,
     "metadata": {},
     "output_type": "execute_result"
    }
   ],
   "source": [
    "# now we will now check the condition for the value of y\n",
    "y == 7"
   ]
  },
  {
   "cell_type": "code",
   "execution_count": 11,
   "id": "dfa28463-3a67-4369-aa04-e3bb4f503952",
   "metadata": {},
   "outputs": [],
   "source": [
    "# '!=' operator"
   ]
  },
  {
   "cell_type": "code",
   "execution_count": 12,
   "id": "1ced8fef-51c3-427f-b27c-55dfdc0a401d",
   "metadata": {},
   "outputs": [
    {
     "data": {
      "text/plain": [
       "False"
      ]
     },
     "execution_count": 12,
     "metadata": {},
     "output_type": "execute_result"
    }
   ],
   "source": [
    "# we will now check the condition for the value of x\n",
    "x != 4"
   ]
  },
  {
   "cell_type": "code",
   "execution_count": 13,
   "id": "88bf9fed-9c4e-4520-af86-e1ce2809b347",
   "metadata": {},
   "outputs": [
    {
     "data": {
      "text/plain": [
       "True"
      ]
     },
     "execution_count": 13,
     "metadata": {},
     "output_type": "execute_result"
    }
   ],
   "source": [
    "# now we will now check the condition for the value of y\n",
    "y != 7"
   ]
  },
  {
   "cell_type": "code",
   "execution_count": 14,
   "id": "31b00526-ca5f-4cca-b37d-68d21701f171",
   "metadata": {},
   "outputs": [],
   "source": [
    "# '>' operator"
   ]
  },
  {
   "cell_type": "code",
   "execution_count": 15,
   "id": "0519b03e-062a-4761-8794-f34ee5b3e325",
   "metadata": {},
   "outputs": [
    {
     "data": {
      "text/plain": [
       "True"
      ]
     },
     "execution_count": 15,
     "metadata": {},
     "output_type": "execute_result"
    }
   ],
   "source": [
    "# we will now check the condition for the value of x\n",
    "x > 3"
   ]
  },
  {
   "cell_type": "code",
   "execution_count": 16,
   "id": "f9ab5e71-8311-49c6-b71a-059f4d6e4ca8",
   "metadata": {},
   "outputs": [
    {
     "data": {
      "text/plain": [
       "False"
      ]
     },
     "execution_count": 16,
     "metadata": {},
     "output_type": "execute_result"
    }
   ],
   "source": [
    "# now we will now check the condition for the value of y\n",
    "y > 7"
   ]
  },
  {
   "cell_type": "code",
   "execution_count": 17,
   "id": "c7536b3a-32aa-498c-9071-b22b384d5fe0",
   "metadata": {},
   "outputs": [],
   "source": [
    "# '<' operator"
   ]
  },
  {
   "cell_type": "code",
   "execution_count": 18,
   "id": "943fa187-7e36-4696-bfbe-8f0993e256a0",
   "metadata": {},
   "outputs": [
    {
     "data": {
      "text/plain": [
       "False"
      ]
     },
     "execution_count": 18,
     "metadata": {},
     "output_type": "execute_result"
    }
   ],
   "source": [
    "# we will now check the condition for the value of x\n",
    "x < 3"
   ]
  },
  {
   "cell_type": "code",
   "execution_count": 19,
   "id": "9db5f66e-02f6-4ab8-8562-013f614a246b",
   "metadata": {},
   "outputs": [
    {
     "data": {
      "text/plain": [
       "True"
      ]
     },
     "execution_count": 19,
     "metadata": {},
     "output_type": "execute_result"
    }
   ],
   "source": [
    "# now we will now check the condition for the value of y\n",
    "y < 7"
   ]
  },
  {
   "cell_type": "code",
   "execution_count": 20,
   "id": "87d4426a-6d30-41ea-9440-d8c5fdae3c30",
   "metadata": {},
   "outputs": [],
   "source": [
    "# '>=' operator"
   ]
  },
  {
   "cell_type": "code",
   "execution_count": 22,
   "id": "1e4436e6-a339-4ae8-8d00-e928223de405",
   "metadata": {},
   "outputs": [
    {
     "data": {
      "text/plain": [
       "True"
      ]
     },
     "execution_count": 22,
     "metadata": {},
     "output_type": "execute_result"
    }
   ],
   "source": [
    "# we will now check the condition for the value of x\n",
    "x >= 3"
   ]
  },
  {
   "cell_type": "code",
   "execution_count": 23,
   "id": "e320e093-0db2-4b3b-bccc-8c620f1accde",
   "metadata": {},
   "outputs": [
    {
     "data": {
      "text/plain": [
       "True"
      ]
     },
     "execution_count": 23,
     "metadata": {},
     "output_type": "execute_result"
    }
   ],
   "source": [
    "# again we will now check the condition for the value of x\n",
    "x >= 4"
   ]
  },
  {
   "cell_type": "code",
   "execution_count": 24,
   "id": "07485bf9-418f-435c-8026-1c5fb2cfba7c",
   "metadata": {},
   "outputs": [
    {
     "data": {
      "text/plain": [
       "False"
      ]
     },
     "execution_count": 24,
     "metadata": {},
     "output_type": "execute_result"
    }
   ],
   "source": [
    "# again we will now check the condition for the value of x\n",
    "x >= 6"
   ]
  },
  {
   "cell_type": "code",
   "execution_count": 25,
   "id": "3b269fe9-e83a-47c7-871b-24aeec3c587d",
   "metadata": {},
   "outputs": [
    {
     "data": {
      "text/plain": [
       "True"
      ]
     },
     "execution_count": 25,
     "metadata": {},
     "output_type": "execute_result"
    }
   ],
   "source": [
    "# now we will now check the condition for the value of y\n",
    "y <= 7"
   ]
  },
  {
   "cell_type": "code",
   "execution_count": 26,
   "id": "baaecde6-804b-469e-a117-38e06d70a163",
   "metadata": {},
   "outputs": [
    {
     "data": {
      "text/plain": [
       "True"
      ]
     },
     "execution_count": 26,
     "metadata": {},
     "output_type": "execute_result"
    }
   ],
   "source": [
    "# again now we will now check the condition for the value of y\n",
    "y <= 6"
   ]
  },
  {
   "cell_type": "code",
   "execution_count": 27,
   "id": "19b35dbd-cbe6-4580-a5b0-c47756e3af59",
   "metadata": {},
   "outputs": [
    {
     "data": {
      "text/plain": [
       "False"
      ]
     },
     "execution_count": 27,
     "metadata": {},
     "output_type": "execute_result"
    }
   ],
   "source": [
    "# again now we will now check the condition for the value of y\n",
    "y <= 4"
   ]
  },
  {
   "cell_type": "code",
   "execution_count": 29,
   "id": "7bc3f395-e54b-4eac-b634-9ebe574535be",
   "metadata": {},
   "outputs": [],
   "source": [
    "# now we will see a practical used case illustration\n",
    "# we will compare the length of two strings\n",
    "a = \"India\"\n",
    "b = \"America\"\n",
    "c = \"China\""
   ]
  },
  {
   "cell_type": "code",
   "execution_count": 30,
   "id": "31434b0b-e11e-40ae-870e-dd55ceab234c",
   "metadata": {},
   "outputs": [
    {
     "name": "stdout",
     "output_type": "stream",
     "text": [
      "False\n"
     ]
    }
   ],
   "source": [
    "print(len(a) == len(b))"
   ]
  },
  {
   "cell_type": "code",
   "execution_count": 31,
   "id": "8ba4d532-3428-4a59-a169-84f897764bc7",
   "metadata": {},
   "outputs": [
    {
     "name": "stdout",
     "output_type": "stream",
     "text": [
      "True\n"
     ]
    }
   ],
   "source": [
    "print(len(a) == len(c))"
   ]
  },
  {
   "cell_type": "code",
   "execution_count": 32,
   "id": "6608a04f-fb79-47bd-a593-a2afedfb0dd5",
   "metadata": {},
   "outputs": [
    {
     "name": "stdout",
     "output_type": "stream",
     "text": [
      "True\n"
     ]
    }
   ],
   "source": [
    "print(len(a) != len(b))"
   ]
  },
  {
   "cell_type": "code",
   "execution_count": 33,
   "id": "d33966dd-ce56-4008-afa2-ac340a2a12dc",
   "metadata": {},
   "outputs": [
    {
     "name": "stdout",
     "output_type": "stream",
     "text": [
      "False\n"
     ]
    }
   ],
   "source": [
    "print(len(a) != len(c))"
   ]
  },
  {
   "cell_type": "code",
   "execution_count": 34,
   "id": "e2a5b88e-31c3-4b0c-9a4a-2da850f7b632",
   "metadata": {},
   "outputs": [
    {
     "name": "stdout",
     "output_type": "stream",
     "text": [
      "False\n"
     ]
    }
   ],
   "source": [
    "print(len(a) > len(b))"
   ]
  },
  {
   "cell_type": "code",
   "execution_count": 35,
   "id": "be38bbf2-361b-44a5-9670-91737ca3d467",
   "metadata": {},
   "outputs": [
    {
     "name": "stdout",
     "output_type": "stream",
     "text": [
      "False\n"
     ]
    }
   ],
   "source": [
    "print(len(a) > len(c))"
   ]
  },
  {
   "cell_type": "code",
   "execution_count": 37,
   "id": "b0743ba8-6909-4df9-b21e-15e137ccfb3c",
   "metadata": {},
   "outputs": [
    {
     "name": "stdout",
     "output_type": "stream",
     "text": [
      "True\n"
     ]
    }
   ],
   "source": [
    "print(len(a) < len(b))"
   ]
  },
  {
   "cell_type": "code",
   "execution_count": 38,
   "id": "c1474159-9692-4960-bf92-7b7eef246a08",
   "metadata": {},
   "outputs": [
    {
     "name": "stdout",
     "output_type": "stream",
     "text": [
      "False\n"
     ]
    }
   ],
   "source": [
    "print(len(a) < len(c))"
   ]
  },
  {
   "cell_type": "code",
   "execution_count": 39,
   "id": "8cd41d60-524c-4404-9e79-8059f6d9a228",
   "metadata": {},
   "outputs": [
    {
     "name": "stdout",
     "output_type": "stream",
     "text": [
      "True\n"
     ]
    }
   ],
   "source": [
    "print(len(a) <= len(b))"
   ]
  },
  {
   "cell_type": "code",
   "execution_count": 40,
   "id": "a690dcc1-1932-4a3b-8d26-23b637e3da5c",
   "metadata": {},
   "outputs": [
    {
     "name": "stdout",
     "output_type": "stream",
     "text": [
      "True\n"
     ]
    }
   ],
   "source": [
    "# now another operator is 'in'\n",
    "print(\"ndi\" in \"India\")"
   ]
  },
  {
   "cell_type": "code",
   "execution_count": 42,
   "id": "81bcfa64-ad39-46ae-b801-c27472430ad3",
   "metadata": {},
   "outputs": [
    {
     "name": "stdout",
     "output_type": "stream",
     "text": [
      "False\n"
     ]
    }
   ],
   "source": [
    "# capital and small letters also checked\n",
    "print(\"ind\" in \"India\")"
   ]
  },
  {
   "cell_type": "code",
   "execution_count": 43,
   "id": "adb83a2b-e522-4d18-bc3f-306b50144c1b",
   "metadata": {},
   "outputs": [
    {
     "name": "stdout",
     "output_type": "stream",
     "text": [
      "True\n"
     ]
    }
   ],
   "source": [
    "# capital and small letters also checked\n",
    "print(\"Ind\" in \"India\")"
   ]
  },
  {
   "cell_type": "code",
   "execution_count": 44,
   "id": "9e6cc9ff-2015-4ca5-b83f-4c33c75f9a82",
   "metadata": {},
   "outputs": [
    {
     "name": "stdout",
     "output_type": "stream",
     "text": [
      "False\n"
     ]
    }
   ],
   "source": [
    "# now another operator is 'not in'\n",
    "print(\"ndi\" not in \"India\")"
   ]
  },
  {
   "cell_type": "code",
   "execution_count": 45,
   "id": "f148f68c-632c-47b5-a6c5-df84bb150db9",
   "metadata": {},
   "outputs": [
    {
     "name": "stdout",
     "output_type": "stream",
     "text": [
      "True\n"
     ]
    }
   ],
   "source": [
    "# capital and small letters also checked\n",
    "print(\"ind\" not in \"India\")"
   ]
  },
  {
   "cell_type": "code",
   "execution_count": 46,
   "id": "e323e507-e652-44f5-af51-6a464eedc918",
   "metadata": {},
   "outputs": [
    {
     "name": "stdout",
     "output_type": "stream",
     "text": [
      "False\n"
     ]
    }
   ],
   "source": [
    "# capital and small letters also checked\n",
    "print(\"Ind\" not in \"India\")"
   ]
  },
  {
   "cell_type": "code",
   "execution_count": 48,
   "id": "d46e855c-0931-4e52-8ea9-5bc3f4832728",
   "metadata": {},
   "outputs": [],
   "source": [
    "# now we will define a number first\n",
    "# then we will take an input from user\n",
    "# then we will check the input is equal to, grether than or less than the defined number"
   ]
  },
  {
   "cell_type": "code",
   "execution_count": 67,
   "id": "d2183c89-9636-4da8-ac53-97893f788d79",
   "metadata": {},
   "outputs": [
    {
     "name": "stdin",
     "output_type": "stream",
     "text": [
      "enter a number (y) greater than 0:  40\n"
     ]
    },
    {
     "name": "stdout",
     "output_type": "stream",
     "text": [
      "the number x(40) is equal to y(40)\n"
     ]
    }
   ],
   "source": [
    "x = 40\n",
    "y = int(input(\"enter a number (y) greater than 0: \"))\n",
    "if (y <= 0):\n",
    "    print(f\"the number y({y}) is <= 0\")\n",
    "elif (x == y):\n",
    "    print(f\"the number x({x}) is equal to y({y})\")\n",
    "elif (x > y):\n",
    "    print(f\"the number x({x}) is greater than to y({y})\")\n",
    "else:\n",
    "    print(f\"the number x({x}) is less than to y({y})\")"
   ]
  },
  {
   "cell_type": "code",
   "execution_count": 68,
   "id": "bdfc5c86-d088-43e5-89e1-144889828487",
   "metadata": {},
   "outputs": [
    {
     "name": "stdin",
     "output_type": "stream",
     "text": [
      "enter a number (y) greater than 0:  30\n"
     ]
    },
    {
     "name": "stdout",
     "output_type": "stream",
     "text": [
      "the number x(40) is greater than to y(30)\n"
     ]
    }
   ],
   "source": [
    "x = 40\n",
    "y = int(input(\"enter a number (y) greater than 0: \"))\n",
    "if (y <= 0):\n",
    "    print(f\"the number y({y}) is <= 0\")\n",
    "elif (x == y):\n",
    "    print(f\"the number x({x}) is equal to y({y})\")\n",
    "elif (x > y):\n",
    "    print(f\"the number x({x}) is greater than to y({y})\")\n",
    "else:\n",
    "    print(f\"the number x({x}) is less than to y({y})\")"
   ]
  },
  {
   "cell_type": "code",
   "execution_count": 69,
   "id": "f3582894-2383-4acd-8772-fb6e29e7172f",
   "metadata": {},
   "outputs": [
    {
     "name": "stdin",
     "output_type": "stream",
     "text": [
      "enter a number (y) greater than 0:  60\n"
     ]
    },
    {
     "name": "stdout",
     "output_type": "stream",
     "text": [
      "the number x(40) is less than to y(60)\n"
     ]
    }
   ],
   "source": [
    "x = 40\n",
    "y = int(input(\"enter a number (y) greater than 0: \"))\n",
    "if (y <= 0):\n",
    "    print(f\"the number y({y}) is <= 0\")\n",
    "elif (x == y):\n",
    "    print(f\"the number x({x}) is equal to y({y})\")\n",
    "elif (x > y):\n",
    "    print(f\"the number x({x}) is greater than to y({y})\")\n",
    "else:\n",
    "    print(f\"the number x({x}) is less than to y({y})\")"
   ]
  },
  {
   "cell_type": "code",
   "execution_count": 70,
   "id": "ea153da6-04a6-45b4-934a-f6e528ad361b",
   "metadata": {},
   "outputs": [
    {
     "name": "stdin",
     "output_type": "stream",
     "text": [
      "enter a number (y) greater than 0:  0\n"
     ]
    },
    {
     "name": "stdout",
     "output_type": "stream",
     "text": [
      "the number y(0) is <= 0\n"
     ]
    }
   ],
   "source": [
    "x = 40\n",
    "y = int(input(\"enter a number (y) greater than 0: \"))\n",
    "if (y <= 0):\n",
    "    print(f\"the number y({y}) is <= 0\")\n",
    "elif (x == y):\n",
    "    print(f\"the number x({x}) is equal to y({y})\")\n",
    "elif (x > y):\n",
    "    print(f\"the number x({x}) is greater than to y({y})\")\n",
    "else:\n",
    "    print(f\"the number x({x}) is less than to y({y})\")"
   ]
  },
  {
   "cell_type": "code",
   "execution_count": 71,
   "id": "4abc9f52-c36d-4f81-b5cb-379a26269f73",
   "metadata": {},
   "outputs": [
    {
     "name": "stdin",
     "output_type": "stream",
     "text": [
      "enter a number (y) greater than 0:  -7\n"
     ]
    },
    {
     "name": "stdout",
     "output_type": "stream",
     "text": [
      "the number y(-7) is <= 0\n"
     ]
    }
   ],
   "source": [
    "x = 40\n",
    "y = int(input(\"enter a number (y) greater than 0: \"))\n",
    "if (y <= 0):\n",
    "    print(f\"the number y({y}) is <= 0\")\n",
    "elif (x == y):\n",
    "    print(f\"the number x({x}) is equal to y({y})\")\n",
    "elif (x > y):\n",
    "    print(f\"the number x({x}) is greater than to y({y})\")\n",
    "else:\n",
    "    print(f\"the number x({x}) is less than to y({y})\")"
   ]
  },
  {
   "cell_type": "code",
   "execution_count": null,
   "id": "fe6d7935-4c23-4ed2-a697-37a367a9ca4b",
   "metadata": {},
   "outputs": [],
   "source": []
  }
 ],
 "metadata": {
  "kernelspec": {
   "display_name": "Python 3 (ipykernel)",
   "language": "python",
   "name": "python3"
  },
  "language_info": {
   "codemirror_mode": {
    "name": "ipython",
    "version": 3
   },
   "file_extension": ".py",
   "mimetype": "text/x-python",
   "name": "python",
   "nbconvert_exporter": "python",
   "pygments_lexer": "ipython3",
   "version": "3.13.5"
  }
 },
 "nbformat": 4,
 "nbformat_minor": 5
}
