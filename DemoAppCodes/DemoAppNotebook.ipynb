{
 "cells": [
  {
   "cell_type": "code",
   "execution_count": 1,
   "id": "b4d481d0-53cf-4063-b653-1fd5e7738b68",
   "metadata": {},
   "outputs": [
    {
     "name": "stdout",
     "output_type": "stream",
     "text": [
      "This is Section 1\n"
     ]
    }
   ],
   "source": [
    "print (\"This is Section 1\")"
   ]
  },
  {
   "cell_type": "code",
   "execution_count": 2,
   "id": "e3bf9865-f2f5-4266-8b54-1affaa8cd717",
   "metadata": {},
   "outputs": [
    {
     "name": "stdout",
     "output_type": "stream",
     "text": [
      "This is Section 2\n"
     ]
    }
   ],
   "source": [
    "print (\"This is Section 2\")"
   ]
  },
  {
   "cell_type": "code",
   "execution_count": 3,
   "id": "30bad2a0-f54c-4cb1-adb4-8534f0fcb615",
   "metadata": {},
   "outputs": [
    {
     "name": "stdout",
     "output_type": "stream",
     "text": [
      "pip 25.1 from C:\\Users\\Prasenjit Boral\\.conda\\envs\\PythonBootcampEnvironment\\Lib\\site-packages\\pip (python 3.13)\n",
      "\n",
      "Note: you may need to restart the kernel to use updated packages.\n"
     ]
    }
   ],
   "source": [
    "pip --version"
   ]
  },
  {
   "cell_type": "code",
   "execution_count": 11,
   "id": "16a3579e-55af-4e10-a477-784f70c1b66d",
   "metadata": {},
   "outputs": [
    {
     "name": "stdout",
     "output_type": "stream",
     "text": [
      "Python 3.13.5\n"
     ]
    }
   ],
   "source": [
    "!python --version"
   ]
  },
  {
   "cell_type": "code",
   "execution_count": null,
   "id": "0f76e134-c660-4a64-a103-719eae89e283",
   "metadata": {},
   "outputs": [],
   "source": []
  }
 ],
 "metadata": {
  "kernelspec": {
   "display_name": "Python 3 (ipykernel)",
   "language": "python",
   "name": "python3"
  },
  "language_info": {
   "codemirror_mode": {
    "name": "ipython",
    "version": 3
   },
   "file_extension": ".py",
   "mimetype": "text/x-python",
   "name": "python",
   "nbconvert_exporter": "python",
   "pygments_lexer": "ipython3",
   "version": "3.13.5"
  }
 },
 "nbformat": 4,
 "nbformat_minor": 5
}
